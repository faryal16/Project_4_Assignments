{
  "nbformat": 4,
  "nbformat_minor": 0,
  "metadata": {
    "colab": {
      "provenance": [],
      "authorship_tag": "ABX9TyOHtuKhwnS6ACY4aQ/t3LAc",
      "include_colab_link": true
    },
    "kernelspec": {
      "name": "python3",
      "display_name": "Python 3"
    },
    "language_info": {
      "name": "python"
    }
  },
  "cells": [
    {
      "cell_type": "markdown",
      "metadata": {
        "id": "view-in-github",
        "colab_type": "text"
      },
      "source": [
        "<a href=\"https://colab.research.google.com/github/faryal16/Google_Collab_Urls/blob/main/rock_game.ipynb\" target=\"_parent\"><img src=\"https://colab.research.google.com/assets/colab-badge.svg\" alt=\"Open In Colab\"/></a>"
      ]
    },
    {
      "cell_type": "code",
      "execution_count": 1,
      "metadata": {
        "colab": {
          "base_uri": "https://localhost:8080/"
        },
        "id": "-1i6HBEH5_kM",
        "outputId": "34c0cf45-8e32-4140-8444-f9dd7e502b32"
      },
      "outputs": [
        {
          "output_type": "stream",
          "name": "stdout",
          "text": [
            "\n",
            "Welcome to Rock-Paper-Scissors! ✊✋✌️\n",
            "\n",
            "Enter your choice:\n",
            "0 for Rock ✊, 1 for Paper ✋, 2 for Scissors ✌️\n",
            "Your choice: 0\n",
            "\n",
            "You chose: Rock ✊\n",
            "Computer chose: Scissors ✌️\n",
            "\n",
            "✅ You win! 🎉\n"
          ]
        }
      ],
      "source": [
        "# Rules of this game\n",
        "# Rock Paper Scissors\n",
        "# Rock \"Rocks wins against Scissors\"\n",
        "# Paper \"Paper wins against Rocks\"\n",
        "# Scissors \"Scissors wins againt paper\"\n",
        "\n",
        "import random\n",
        "\n",
        "print(\"\\nWelcome to Rock-Paper-Scissors! ✊✋✌️\")\n",
        "\n",
        "choices = [\"Rock ✊\", \"Paper ✋\", \"Scissors ✌️\"]\n",
        "\n",
        "while True:  # Keep asking until a valid input is received\n",
        "    try:\n",
        "        user_choice = int(input(\"\\nEnter your choice:\\n0 for Rock ✊, 1 for Paper ✋, 2 for Scissors ✌️\\nYour choice: \"))\n",
        "\n",
        "        if user_choice not in [0, 1, 2]:\n",
        "            print(\"❌ Invalid choice! Please enter 0, 1, or 2.\")\n",
        "            continue  # Ask again if input is invalid\n",
        "\n",
        "        break  # Exit loop when valid input is given\n",
        "\n",
        "    except ValueError:\n",
        "        print(\"❌ Invalid input! Please enter a number (0, 1, or 2).\")\n",
        "\n",
        "# Computer's choice\n",
        "computer_choice = random.randint(0, 2)\n",
        "\n",
        "print(f\"\\nYou chose: {choices[user_choice]}\")\n",
        "print(f\"Computer chose: {choices[computer_choice]}\\n\")\n",
        "\n",
        "# Determine the winner\n",
        "if user_choice == computer_choice:\n",
        "    print(\"It's a draw! 🤝\")\n",
        "elif (user_choice == 0 and computer_choice == 2) or \\\n",
        "     (user_choice == 1 and computer_choice == 0) or \\\n",
        "     (user_choice == 2 and computer_choice == 1):\n",
        "    print(\"✅ You win! 🎉\")\n",
        "else:\n",
        "    print(\"❌ You lose! 😢\")\n"
      ]
    }
  ]
}