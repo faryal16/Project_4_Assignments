{
  "nbformat": 4,
  "nbformat_minor": 0,
  "metadata": {
    "colab": {
      "provenance": [],
      "authorship_tag": "ABX9TyO4rhqYXaJ5T0mSAuBo0W+t",
      "include_colab_link": true
    },
    "kernelspec": {
      "name": "python3",
      "display_name": "Python 3"
    },
    "language_info": {
      "name": "python"
    }
  },
  "cells": [
    {
      "cell_type": "markdown",
      "metadata": {
        "id": "view-in-github",
        "colab_type": "text"
      },
      "source": [
        "<a href=\"https://colab.research.google.com/github/faryal16/Google_Collab_Urls/blob/main/guess(user)_py.ipynb\" target=\"_parent\"><img src=\"https://colab.research.google.com/assets/colab-badge.svg\" alt=\"Open In Colab\"/></a>"
      ]
    },
    {
      "cell_type": "code",
      "execution_count": 1,
      "metadata": {
        "colab": {
          "base_uri": "https://localhost:8080/"
        },
        "id": "KGSO-1U-fkEO",
        "outputId": "533dec17-965d-4a68-da22-8c421fd9d1ac"
      },
      "outputs": [
        {
          "output_type": "stream",
          "name": "stdout",
          "text": [
            "\n",
            "🎉 Welcome to the Number Guessing Game! 🎉\n",
            "\n",
            "\n",
            "Enter Your Number: 112\n",
            "\n",
            "Too High! Try Again\n",
            "\n",
            "\n",
            "Enter Your Number: 34\n",
            "\n",
            "Too High! Try Again\n",
            "\n",
            "\n",
            "Enter Your Number: 23\n",
            "\n",
            "Too Low! Try Again\n",
            "\n",
            "Enter Your Number: 30\n",
            " \n",
            "Yes 30 was correct!\n",
            "🎉 Congratulations! You guessed it in 4 attempts.\n"
          ]
        }
      ],
      "source": [
        "import random\n",
        "\n",
        "\n",
        "print(\"\\n🎉 Welcome to the Number Guessing Game! 🎉\\n\")\n",
        "\n",
        "# generate a random number between 1 to 50\n",
        "secret_number = random.randint(1,50)\n",
        "\n",
        "# Ask the playes\n",
        "attempts = 0\n",
        "while True:\n",
        "    guess= int(input(\"\\nEnter Your Number: \"))\n",
        "    attempts += 1\n",
        "\n",
        "    if guess < secret_number:\n",
        "        print(\"\\nToo Low! Try Again\")\n",
        "\n",
        "    elif guess > secret_number:\n",
        "        print(\"\\nToo High! Try Again\\n\")\n",
        "    else:\n",
        "         print(f\" \\nYes {secret_number} was correct!\\n🎉 Congratulations! You guessed it in {attempts} attempts.\")\n",
        "         break"
      ]
    }
  ]
}