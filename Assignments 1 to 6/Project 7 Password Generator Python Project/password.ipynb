{
  "nbformat": 4,
  "nbformat_minor": 0,
  "metadata": {
    "colab": {
      "provenance": [],
      "authorship_tag": "ABX9TyM3NVvqfeXlfdSmJ4+hZyW9",
      "include_colab_link": true
    },
    "kernelspec": {
      "name": "python3",
      "display_name": "Python 3"
    },
    "language_info": {
      "name": "python"
    }
  },
  "cells": [
    {
      "cell_type": "markdown",
      "metadata": {
        "id": "view-in-github",
        "colab_type": "text"
      },
      "source": [
        "<a href=\"https://colab.research.google.com/github/faryal16/Google_Collab_Urls/blob/main/password.ipynb\" target=\"_parent\"><img src=\"https://colab.research.google.com/assets/colab-badge.svg\" alt=\"Open In Colab\"/></a>"
      ]
    },
    {
      "cell_type": "code",
      "execution_count": 1,
      "metadata": {
        "colab": {
          "base_uri": "https://localhost:8080/"
        },
        "id": "mioqgXdM9zQj",
        "outputId": "e60ad035-c8bb-40e1-888a-059fc5bab799"
      },
      "outputs": [
        {
          "output_type": "stream",
          "name": "stdout",
          "text": [
            "\n",
            "🔐 Enter desired password length : 8\n",
            "\n",
            "✅ Your Secure Password: aXu.c{D}\n"
          ]
        }
      ],
      "source": [
        "import random\n",
        "import string\n",
        "\n",
        "if __name__ == \"__main__\":\n",
        "    s1 = string.ascii_lowercase\n",
        "    s2 = string.ascii_uppercase\n",
        "    s3 = string.digits\n",
        "    s4 = string.punctuation\n",
        "\n",
        "    # Asking user for password length\n",
        "    while True:\n",
        "        try:\n",
        "            passwordLen = int(input(\"\\n🔐 Enter desired password length : \"))\n",
        "            if 6 <= passwordLen <= 12:\n",
        "                break\n",
        "            else:\n",
        "                print(\"\\n⚠️ Password length must be between 6 and 12!\")\n",
        "        except ValueError:\n",
        "            print(\"\\n❌ Invalid input! Please enter a number between 6 and 12.\")\n",
        "\n",
        "    # Create character pool\n",
        "    s = list(s1 + s2 + s3 + s4)\n",
        "    random.shuffle(s)\n",
        "\n",
        "    # Generate password\n",
        "    password = \"\".join(s[:passwordLen])\n",
        "    print(f\"\\n✅ Your Secure Password: {password}\")\n"
      ]
    }
  ]
}