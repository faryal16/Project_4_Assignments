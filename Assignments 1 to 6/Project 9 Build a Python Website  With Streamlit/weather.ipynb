{
  "nbformat": 4,
  "nbformat_minor": 0,
  "metadata": {
    "colab": {
      "provenance": [],
      "gpuType": "T4",
      "authorship_tag": "ABX9TyP3ngWZY+SZW8n03Ip0BLNd",
      "include_colab_link": true
    },
    "kernelspec": {
      "name": "python3",
      "display_name": "Python 3"
    },
    "language_info": {
      "name": "python"
    },
    "accelerator": "GPU"
  },
  "cells": [
    {
      "cell_type": "markdown",
      "metadata": {
        "id": "view-in-github",
        "colab_type": "text"
      },
      "source": [
        "<a href=\"https://colab.research.google.com/github/faryal16/Google_Collab_Urls/blob/main/weather.ipynb\" target=\"_parent\"><img src=\"https://colab.research.google.com/assets/colab-badge.svg\" alt=\"Open In Colab\"/></a>"
      ]
    },
    {
      "cell_type": "code",
      "execution_count": 1,
      "metadata": {
        "colab": {
          "base_uri": "https://localhost:8080/"
        },
        "id": "vWjELG5ERM6e",
        "outputId": "3df331f1-4370-40b7-8e7f-2f5b14ccd1f1"
      },
      "outputs": [
        {
          "output_type": "stream",
          "name": "stdout",
          "text": [
            "\u001b[2K     \u001b[90m━━━━━━━━━━━━━━━━━━━━━━━━━━━━━━━━━━━━━━━━\u001b[0m \u001b[32m44.3/44.3 kB\u001b[0m \u001b[31m1.5 MB/s\u001b[0m eta \u001b[36m0:00:00\u001b[0m\n",
            "\u001b[2K   \u001b[90m━━━━━━━━━━━━━━━━━━━━━━━━━━━━━━━━━━━━━━━━\u001b[0m \u001b[32m9.6/9.6 MB\u001b[0m \u001b[31m56.9 MB/s\u001b[0m eta \u001b[36m0:00:00\u001b[0m\n",
            "\u001b[2K   \u001b[90m━━━━━━━━━━━━━━━━━━━━━━━━━━━━━━━━━━━━━━━━\u001b[0m \u001b[32m6.9/6.9 MB\u001b[0m \u001b[31m89.1 MB/s\u001b[0m eta \u001b[36m0:00:00\u001b[0m\n",
            "\u001b[2K   \u001b[90m━━━━━━━━━━━━━━━━━━━━━━━━━━━━━━━━━━━━━━━━\u001b[0m \u001b[32m79.1/79.1 kB\u001b[0m \u001b[31m5.6 MB/s\u001b[0m eta \u001b[36m0:00:00\u001b[0m\n",
            "\u001b[?25h"
          ]
        }
      ],
      "source": [
        "!pip install streamlit -q"
      ]
    },
    {
      "cell_type": "code",
      "source": [
        "!wget -q -O - ipv4.icanhazip.com"
      ],
      "metadata": {
        "colab": {
          "base_uri": "https://localhost:8080/"
        },
        "id": "1G0kzBaORuDU",
        "outputId": "7f484515-788f-418f-e53c-d37172e0bbba"
      },
      "execution_count": 2,
      "outputs": [
        {
          "output_type": "stream",
          "name": "stdout",
          "text": [
            "35.237.250.56\n"
          ]
        }
      ]
    },
    {
      "cell_type": "code",
      "source": [
        "%%writefile app.py\n",
        "\n",
        "import requests\n",
        "import streamlit as st\n",
        "import random\n",
        "import os\n",
        "\n",
        "# 🌤️ Function to get weather data\n",
        "def get_weather(city):\n",
        "    api_key = \"ef25b7653a1c0d03e4e316aa9c0d954c\"\n",
        "    url = f\"https://api.openweathermap.org/data/2.5/weather?q={city}&appid={api_key}\"\n",
        "\n",
        "    try:\n",
        "        response = requests.get(url)\n",
        "        response.raise_for_status()  # Raise an exception for HTTP errors\n",
        "        data = response.json()\n",
        "        if data['cod'] != 200:\n",
        "            st.error(f\"Error: {data['message']}\")\n",
        "            return\n",
        "    except requests.exceptions.RequestException as err:\n",
        "        st.error(f\"Error fetching data: {err}\")\n",
        "        return\n",
        "\n",
        "    # 🌬️ Extract relevant weather information\n",
        "    weather_description = data['weather'][0]['description'].title()\n",
        "    temperature = round(data['main']['temp'] - 273.15, 2)  # Convert Kelvin to Celsius\n",
        "    humidity = data['main']['humidity']\n",
        "    pressure = data['main']['pressure']\n",
        "\n",
        "    # 🌟 Display the weather forecast\n",
        "    st.subheader(f\"🌆 Weather in {city} ☀️\")\n",
        "    st.write(f\"**🌬️ Condition:** {weather_description}\")\n",
        "    st.write(f\"**🌡️ Temperature:** {temperature}°C\")\n",
        "    st.write(f\"**💧 Humidity:** {humidity}%\")\n",
        "    st.write(f\"**💨 Pressure:** {pressure} hPa\")\n",
        "\n",
        "    # Random success message for fun\n",
        "    messages = [\n",
        "        \"Stay prepared for the day! 🚀\",\n",
        "        \"Looks like a great day ahead! 🌈\",\n",
        "        \"Don't forget your umbrella ☔ if needed!\",\n",
        "        \"Enjoy the sunshine! 🌞\",\n",
        "        \"Keep an eye on changing weather conditions! 🔄\"\n",
        "    ]\n",
        "    st.success(random.choice(messages))\n",
        "\n",
        "# 🔥 UI Setup\n",
        "\n",
        "# Create two columns\n",
        "col1, col2 = st.columns([1, 1])\n",
        "\n",
        "with col1:\n",
        "    st.title(\"🌍 Real-Time Weather App\")\n",
        "    st.write(\"Get up-to-date weather details for any city around the world! 📊\")\n",
        "\n",
        "with col2:\n",
        "    st.image(\n",
        "        \"https://media.istockphoto.com/id/2186489699/photo/tropical-storm-in-u-s.jpg?s=612x612&w=0&k=20&c=GcZERMrDlE7BP0HRf7RtCJfAFTZoIjwyE5Uv5Na9PLs=\",\n",
        "        use_container_width=True,\n",
        "    )\n",
        "\n",
        "st.write(\"---\")\n",
        "\n",
        "# Input field for city name\n",
        "city = st.text_input(\"Enter City Name 📍\", value=\"Karachi\")\n",
        "if st.button(\"📊 Get Weather\"):\n",
        "    if city.strip():\n",
        "        get_weather(city)\n",
        "    else:\n",
        "        st.error(\"Please enter a valid city name! ⚠️\")\n"
      ],
      "metadata": {
        "colab": {
          "base_uri": "https://localhost:8080/"
        },
        "id": "QudJRES2R9id",
        "outputId": "331c02e3-f2a9-46a0-db96-ef02dcb755aa"
      },
      "execution_count": 10,
      "outputs": [
        {
          "output_type": "stream",
          "name": "stdout",
          "text": [
            "Overwriting app.py\n"
          ]
        }
      ]
    },
    {
      "cell_type": "code",
      "source": [
        "! streamlit run app.py & npx localtunnel --port 8501\n"
      ],
      "metadata": {
        "colab": {
          "base_uri": "https://localhost:8080/"
        },
        "id": "fioFZ9GiS2T-",
        "outputId": "01d4fdc7-fd1c-4b50-9678-ee9d73da93ea"
      },
      "execution_count": null,
      "outputs": [
        {
          "output_type": "stream",
          "name": "stdout",
          "text": [
            "\n",
            "Collecting usage statistics. To deactivate, set browser.gatherUsageStats to false.\n",
            "\u001b[0m\n",
            "\u001b[1G\u001b[0K⠙\u001b[1G\u001b[0K⠹\u001b[1G\u001b[0K⠸\u001b[0m\n",
            "\u001b[34m\u001b[1m  You can now view your Streamlit app in your browser.\u001b[0m\n",
            "\u001b[0m\n",
            "\u001b[34m  Local URL: \u001b[0m\u001b[1mhttp://localhost:8501\u001b[0m\n",
            "\u001b[34m  Network URL: \u001b[0m\u001b[1mhttp://172.28.0.12:8501\u001b[0m\n",
            "\u001b[34m  External URL: \u001b[0m\u001b[1mhttp://35.237.250.56:8501\u001b[0m\n",
            "\u001b[0m\n",
            "\u001b[1G\u001b[0K⠼\u001b[1G\u001b[0K⠴\u001b[1G\u001b[0Kyour url is: https://wicked-chefs-sneeze.loca.lt\n"
          ]
        }
      ]
    }
  ]
}