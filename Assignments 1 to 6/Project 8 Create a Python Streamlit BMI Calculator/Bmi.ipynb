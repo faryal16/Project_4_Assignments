{
  "nbformat": 4,
  "nbformat_minor": 0,
  "metadata": {
    "colab": {
      "provenance": [],
      "authorship_tag": "ABX9TyNQvV9RAZiUkCjg+Y7vxidy",
      "include_colab_link": true
    },
    "kernelspec": {
      "name": "python3",
      "display_name": "Python 3"
    },
    "language_info": {
      "name": "python"
    }
  },
  "cells": [
    {
      "cell_type": "markdown",
      "metadata": {
        "id": "view-in-github",
        "colab_type": "text"
      },
      "source": [
        "<a href=\"https://colab.research.google.com/github/faryal16/Google_Collab_Urls/blob/main/Bmi.ipynb\" target=\"_parent\"><img src=\"https://colab.research.google.com/assets/colab-badge.svg\" alt=\"Open In Colab\"/></a>"
      ]
    },
    {
      "cell_type": "code",
      "execution_count": 1,
      "metadata": {
        "colab": {
          "base_uri": "https://localhost:8080/"
        },
        "id": "22DPn4wl1cFT",
        "outputId": "302c7091-1863-4d6b-b6b5-378554530f7b"
      },
      "outputs": [
        {
          "output_type": "stream",
          "name": "stdout",
          "text": [
            "\u001b[2K     \u001b[90m━━━━━━━━━━━━━━━━━━━━━━━━━━━━━━━━━━━━━━━━\u001b[0m \u001b[32m44.3/44.3 kB\u001b[0m \u001b[31m1.2 MB/s\u001b[0m eta \u001b[36m0:00:00\u001b[0m\n",
            "\u001b[2K   \u001b[90m━━━━━━━━━━━━━━━━━━━━━━━━━━━━━━━━━━━━━━━━\u001b[0m \u001b[32m9.6/9.6 MB\u001b[0m \u001b[31m62.5 MB/s\u001b[0m eta \u001b[36m0:00:00\u001b[0m\n",
            "\u001b[2K   \u001b[90m━━━━━━━━━━━━━━━━━━━━━━━━━━━━━━━━━━━━━━━━\u001b[0m \u001b[32m6.9/6.9 MB\u001b[0m \u001b[31m85.2 MB/s\u001b[0m eta \u001b[36m0:00:00\u001b[0m\n",
            "\u001b[2K   \u001b[90m━━━━━━━━━━━━━━━━━━━━━━━━━━━━━━━━━━━━━━━━\u001b[0m \u001b[32m79.1/79.1 kB\u001b[0m \u001b[31m4.6 MB/s\u001b[0m eta \u001b[36m0:00:00\u001b[0m\n",
            "\u001b[?25h"
          ]
        }
      ],
      "source": [
        "!pip install streamlit -q"
      ]
    },
    {
      "cell_type": "code",
      "source": [
        "!wget -q -O - ipv4.icanhazip.com"
      ],
      "metadata": {
        "colab": {
          "base_uri": "https://localhost:8080/"
        },
        "id": "4N7OdLwE1139",
        "outputId": "bece4686-56f2-4ab9-dea2-0e67765fa587"
      },
      "execution_count": 2,
      "outputs": [
        {
          "output_type": "stream",
          "name": "stdout",
          "text": [
            "34.148.155.217\n"
          ]
        }
      ]
    },
    {
      "cell_type": "code",
      "source": [
        "# BMI is Body Mass Index\n",
        "# BMI = kg/m²\n",
        "%%writefile app.py\n",
        "\n",
        "import streamlit as st\n",
        "\n",
        "# 🔹 Set up the Streamlit app title and description\n",
        "st.title(\"⚖️ BMI Calculator - Know Your Health Status!\")\n",
        "st.write(\"### 🎨 Designed for an interactive experience with real-time calculations!\")\n",
        "st.write(\"---\")\n",
        "\n",
        "def calculate_bmi(height, weight):\n",
        "    bmi = round(weight / ((height / 100) ** 2), 1)\n",
        "    if bmi < 28.5:\n",
        "        return f\"📊 Your BMI is {bmi}: **Underweight** \\n\\n🍎 You need to gain some weight! \"\n",
        "    elif 28.5 <= bmi < 45:\n",
        "        return f\"📊 Your BMI is {bmi}: **Healthy** \\n\\n💪 Great job! Keep it up! \"\n",
        "    elif 45 <= bmi < 60:\n",
        "        return f\"📊 Your BMI is {bmi}: **Overweight** \\n\\n⚖️ Consider a balanced diet! \"\n",
        "    else:\n",
        "        return f\"📊 Your BMI is {bmi}: **Obese** \\n\\n💪 Time to hit the gym! \"\n",
        "\n",
        "# 🔹 Collect user input with better formatting\n",
        "st.write(\"## 🎯 Enter Your Details Below\")\n",
        "st.write(\"---\")\n",
        "height = st.number_input(\"📏 Enter height in cm:\", min_value=50.0, max_value=300.0, step=0.1)\n",
        "weight = st.number_input(\"⚖️ Enter weight in kg:\", min_value=10.0, max_value=500.0, step=0.1)\n",
        "\n",
        "if st.button(\"🧮 Calculate BMI\"):\n",
        "    if height > 0 and weight > 0:\n",
        "        result = calculate_bmi(height, weight)\n",
        "        st.success(result)\n",
        "        st.balloons()\n",
        "    else:\n",
        "        st.error(\"❌ Please enter valid height and weight values.\")\n",
        "\n",
        "st.write(\"---\")\n",
        "st.write(\"### 💡 Tip: A healthy lifestyle starts with knowing your numbers!\")\n",
        "\n"
      ],
      "metadata": {
        "colab": {
          "base_uri": "https://localhost:8080/"
        },
        "id": "NHSmZk7y2Izq",
        "outputId": "cab28846-a31d-455a-a9ab-afa5e6f3c275"
      },
      "execution_count": 5,
      "outputs": [
        {
          "output_type": "stream",
          "name": "stdout",
          "text": [
            "Writing app.py\n"
          ]
        }
      ]
    },
    {
      "cell_type": "code",
      "source": [
        "! streamlit run app.py & npx localtunnel --port 8501\n"
      ],
      "metadata": {
        "colab": {
          "base_uri": "https://localhost:8080/"
        },
        "id": "FyMG787L7acZ",
        "outputId": "ac9969df-c852-4399-afb6-db2f85ca1483"
      },
      "execution_count": null,
      "outputs": [
        {
          "output_type": "stream",
          "name": "stdout",
          "text": [
            "\n",
            "Collecting usage statistics. To deactivate, set browser.gatherUsageStats to false.\n",
            "\u001b[0m\n",
            "\u001b[1G\u001b[0K⠙\u001b[1G\u001b[0K⠹\u001b[1G\u001b[0K⠸\u001b[1G\u001b[0K⠼\u001b[1G\u001b[0K⠴\u001b[0m\n",
            "\u001b[34m\u001b[1m  You can now view your Streamlit app in your browser.\u001b[0m\n",
            "\u001b[0m\n",
            "\u001b[34m  Local URL: \u001b[0m\u001b[1mhttp://localhost:8501\u001b[0m\n",
            "\u001b[34m  Network URL: \u001b[0m\u001b[1mhttp://172.28.0.12:8501\u001b[0m\n",
            "\u001b[34m  External URL: \u001b[0m\u001b[1mhttp://34.148.155.217:8501\u001b[0m\n",
            "\u001b[0m\n",
            "\u001b[1G\u001b[0K⠦\u001b[1G\u001b[0Kyour url is: https://open-worms-enter.loca.lt\n"
          ]
        }
      ]
    }
  ]
}