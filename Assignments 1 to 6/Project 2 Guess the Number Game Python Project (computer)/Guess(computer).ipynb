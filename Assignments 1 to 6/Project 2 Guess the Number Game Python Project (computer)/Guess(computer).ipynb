{
  "nbformat": 4,
  "nbformat_minor": 0,
  "metadata": {
    "colab": {
      "provenance": [],
      "authorship_tag": "ABX9TyMoHRRNrGlrsVWvcavXZANg",
      "include_colab_link": true
    },
    "kernelspec": {
      "name": "python3",
      "display_name": "Python 3"
    },
    "language_info": {
      "name": "python"
    }
  },
  "cells": [
    {
      "cell_type": "markdown",
      "metadata": {
        "id": "view-in-github",
        "colab_type": "text"
      },
      "source": [
        "<a href=\"https://colab.research.google.com/github/faryal16/Google_Collab_Urls/blob/main/Guess(computer).ipynb\" target=\"_parent\"><img src=\"https://colab.research.google.com/assets/colab-badge.svg\" alt=\"Open In Colab\"/></a>"
      ]
    },
    {
      "cell_type": "code",
      "execution_count": null,
      "metadata": {
        "colab": {
          "base_uri": "https://localhost:8080/"
        },
        "id": "zrxeE0lzT0AO",
        "outputId": "1d7df7e7-c9c5-495c-ff7f-d662d2235a51"
      },
      "outputs": [
        {
          "output_type": "stream",
          "name": "stdout",
          "text": [
            "Hey there! Welcome to my game zone 🎮\n",
            "\n",
            "🐬  🎀  𝒢𝒰𝐸𝒮𝒮 𝒯𝐻𝐸 𝒩𝒰𝑀𝐵𝐸𝑅  🎀  🐬\n",
            "\n",
            "Let me think of a number between 1 to 50...\n",
            "\n",
            "\n",
            "🎉So, how daring do you feel today? Choose 'easy' or 'hard': easy\n",
            "\n",
            "You have 10 attempts remaining to guess the right number.\n",
            "Guess a number: 45\n",
            "Your guess is too high.\n",
            "🔄 Try again!\n",
            "\n",
            "You have 9 attempts remaining to guess the right number.\n",
            "Guess a number: 35\n",
            "Your guess is too high.\n",
            "🔄 Try again!\n",
            "\n",
            "You have 8 attempts remaining to guess the right number.\n",
            "Guess a number: 25\n",
            "Your guess is too high.\n",
            "🔄 Try again!\n",
            "\n",
            "You have 7 attempts remaining to guess the right number.\n",
            "Guess a number: 15\n",
            "Your guess is too high.\n",
            "🔄 Try again!\n",
            "\n",
            "You have 6 attempts remaining to guess the right number.\n",
            "Guess a number: 10\n",
            "Your guess is too high.\n",
            "🔄 Try again!\n",
            "\n",
            "You have 5 attempts remaining to guess the right number.\n",
            "Guess a number: 4\n",
            "\n",
            "🎉 Woooo! You got it! Yes, the answer was 4! 🎉\n"
          ]
        }
      ],
      "source": [
        "import random\n",
        "\n",
        "\n",
        "EASY_LEVEL_ATTEMPTS = 10\n",
        "HARD_LEVEL_ATTEMPTS = 5\n",
        "\n",
        "def set_difficulty(level_chosen):\n",
        "    \"\"\"Sets the number of attempts based on difficulty level.\"\"\"\n",
        "    if level_chosen == 'easy':\n",
        "        return EASY_LEVEL_ATTEMPTS\n",
        "    else:\n",
        "        return HARD_LEVEL_ATTEMPTS\n",
        "\n",
        "def check_answer(guessed_number, answer, attempts):\n",
        "    \"\"\"Checks the guessed number against the answer and returns remaining attempts.\"\"\"\n",
        "    if guessed_number < answer:\n",
        "        print(\"Your guess is too low.\")\n",
        "        return attempts - 1\n",
        "    elif guessed_number > answer:\n",
        "        print(\"Your guess is too high.\")\n",
        "        return attempts - 1\n",
        "    else:\n",
        "        print(f\"\\n🎉 Woooo! You got it! Yes, the answer was {answer}! 🎉\")\n",
        "        return None  # Returning None to indicate a correct guess\n",
        "\n",
        "def game():\n",
        "    \"\"\"Main function to run the game.\"\"\"\n",
        "    print(\"Hey there! Welcome to my game zone 🎮\")\n",
        "    print(\"\"\"\n",
        "🐬  🎀  𝒢𝒰𝐸𝒮𝒮 𝒯𝐻𝐸 𝒩𝒰𝑀𝐵𝐸𝑅  🎀  🐬\"\"\")\n",
        "    print(\"\\nLet me think of a number between 1 to 50...\\n\")\n",
        "\n",
        "    answer = random.randint(1, 50)\n",
        "    # print(answer)  # Debugging (uncomment if needed)\n",
        "\n",
        "    level = input(\"\\n🎉So, how daring do you feel today? Choose 'easy' or 'hard': \").lower()\n",
        "\n",
        "    attempts = set_difficulty(level)\n",
        "    guessed_number = 0\n",
        "\n",
        "    while guessed_number != answer and attempts > 0:\n",
        "        print(f\"\\nYou have {attempts} attempts remaining to guess the right number.\")\n",
        "\n",
        "        try:\n",
        "            guessed_number = int(input(\"Guess a number: \"))\n",
        "        except ValueError:\n",
        "            print(\"🚨 Invalid input! Please enter a number.\")\n",
        "            continue  # Skip the rest of the loop and retry\n",
        "\n",
        "        attempts = check_answer(guessed_number, answer, attempts)\n",
        "\n",
        "        if attempts is None:  # Correct answer\n",
        "            break\n",
        "        elif attempts == 0:\n",
        "            print(\"\\n💔 Oh no! You're out of guesses. You lose! The correct answer was:\", answer)\n",
        "            return\n",
        "        else:\n",
        "            print(\"🔄 Try again!\")\n",
        "\n",
        "game()\n"
      ]
    }
  ]
}