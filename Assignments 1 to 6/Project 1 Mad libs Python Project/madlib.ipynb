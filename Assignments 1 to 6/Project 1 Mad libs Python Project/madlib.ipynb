{
  "nbformat": 4,
  "nbformat_minor": 0,
  "metadata": {
    "colab": {
      "provenance": [],
      "authorship_tag": "ABX9TyMwQsRUyw3ezDynwe7hT85n",
      "include_colab_link": true
    },
    "kernelspec": {
      "name": "python3",
      "display_name": "Python 3"
    },
    "language_info": {
      "name": "python"
    }
  },
  "cells": [
    {
      "cell_type": "markdown",
      "metadata": {
        "id": "view-in-github",
        "colab_type": "text"
      },
      "source": [
        "<a href=\"https://colab.research.google.com/github/faryal16/Google_Collab_Urls/blob/main/madlib.ipynb\" target=\"_parent\"><img src=\"https://colab.research.google.com/assets/colab-badge.svg\" alt=\"Open In Colab\"/></a>"
      ]
    },
    {
      "cell_type": "code",
      "execution_count": null,
      "metadata": {
        "id": "VBiWUj5-a28_"
      },
      "outputs": [],
      "source": [
        "from random import randint\n",
        "\n",
        "print(\"Welcome to the Madlib Game!\")\n",
        "playing = input(\"Let's play, shall we? (Yes/No): \").strip()\n",
        "\n",
        "if playing.lower() not in [\"yes\", \"y\"]:\n",
        "    print(\"Okay, maybe next time!\")\n",
        "    quit()\n",
        "\n",
        "print(\"\\nOkay, let's play the game!\\n\")\n",
        "\n",
        "# Getting user input\n",
        "noun1 = input(\"Enter your Name: \")\n",
        "noun2 = input(\"Enter your Friend's Name: \")\n",
        "noun3 = input(\"Enter another Friend's Name: \")\n",
        "place = input(\"Enter a place name: \")\n",
        "adjective1 = input(\"Enter an Adjective: \")\n",
        "adjective2 = input(\"Enter another Adjective: \")\n",
        "adjective3 = input(\"Enter one more Adjective: \")\n",
        "adverb1 = input(\"Enter an Adverb: \")\n",
        "adverb2 = input(\"Enter another Adverb: \")\n",
        "exclamation = input(\"Enter an Emotion: \")\n",
        "\n",
        "# Print story using f-strings\n",
        "story = f\"\"\"\n",
        "One day, {noun1} and their two best friends, {noun2} and {noun3}, decided to go on an adventure to {place}. It was a {adjective1} day, with the sun shining brightly in the sky.\n",
        "\n",
        "As they arrived, they noticed something {adjective2} in the distance. Curious, they walked {adverb1} towards it, only to realize it was a hidden treasure chest! \"{exclamation}!\" they all shouted in excitement.\n",
        "\n",
        "Just as they were about to open it, a {adjective3} gust of wind blew, and suddenly, the ground started shaking {adverb2}. Was it a trap? Or was it magic? They looked at each other, unsure of what to do next.\n",
        "\"\"\"\n",
        "\n",
        "print(story)\n"
      ]
    }
  ]
}