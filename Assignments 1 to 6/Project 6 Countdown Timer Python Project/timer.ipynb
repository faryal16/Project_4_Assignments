{
  "nbformat": 4,
  "nbformat_minor": 0,
  "metadata": {
    "colab": {
      "provenance": [],
      "authorship_tag": "ABX9TyMt9ERWEplVrC/+zFlmjYq4",
      "include_colab_link": true
    },
    "kernelspec": {
      "name": "python3",
      "display_name": "Python 3"
    },
    "language_info": {
      "name": "python"
    }
  },
  "cells": [
    {
      "cell_type": "markdown",
      "metadata": {
        "id": "view-in-github",
        "colab_type": "text"
      },
      "source": [
        "<a href=\"https://colab.research.google.com/github/faryal16/Google_Collab_Urls/blob/main/timer.ipynb\" target=\"_parent\"><img src=\"https://colab.research.google.com/assets/colab-badge.svg\" alt=\"Open In Colab\"/></a>"
      ]
    },
    {
      "cell_type": "code",
      "execution_count": 2,
      "metadata": {
        "id": "cF8pp07N8FJi",
        "colab": {
          "base_uri": "https://localhost:8080/"
        },
        "outputId": "9456c07c-6717-4249-f92f-70c839e4866b"
      },
      "outputs": [
        {
          "output_type": "stream",
          "name": "stdout",
          "text": [
            "⏲️ Enter countdown time in seconds: 15\n",
            "\n",
            "🚀 Countdown Timer Started! 🚀\n",
            "\n"
          ]
        },
        {
          "output_type": "stream",
          "name": "stderr",
          "text": [
            "⏳ Time Left: 100%|████████████████████████| 15/15 [00:15<00:00,  1.00s/it]"
          ]
        },
        {
          "output_type": "stream",
          "name": "stdout",
          "text": [
            "\n",
            "🎉 Time's up! 🎉\n",
            "Boom! 💥 Time just vanished!\n"
          ]
        },
        {
          "output_type": "stream",
          "name": "stderr",
          "text": [
            "\n"
          ]
        }
      ],
      "source": [
        "import time\n",
        "import random\n",
        "from tqdm import tqdm\n",
        "\n",
        "def countdown_timer(seconds):\n",
        "    print(\"\\n🚀 Countdown Timer Started! 🚀\\n\")\n",
        "\n",
        "    for remaining in tqdm(range(seconds, 0, -1), desc=\"⏳ Time Left\", ncols=75):\n",
        "        time.sleep(1)  # Delay for 1 second per step\n",
        "\n",
        "    print(\"\\n🎉 Time's up! 🎉\")\n",
        "    fun_messages = [\n",
        "        \"Boom! 💥 Time just vanished!\",\n",
        "        \"Tick-tock, tick-tock...⏰ And it's over!\",\n",
        "        \"Mission Complete! ✅\",\n",
        "        \"You made it! Now go have fun! 🎈\",\n",
        "    ]\n",
        "\n",
        "    print(random.choice(fun_messages))\n",
        "\n",
        "# Set the countdown time (change as needed)\n",
        "countdown_time = int(input(\"⏲️ Enter countdown time in seconds: \"))\n",
        "countdown_timer(countdown_time)\n"
      ]
    }
  ]
}